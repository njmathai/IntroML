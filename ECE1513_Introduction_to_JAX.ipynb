{
  "nbformat": 4,
  "nbformat_minor": 0,
  "metadata": {
    "colab": {
      "name": "ECE1513_Introduction_to_JAX",
      "provenance": [],
      "collapsed_sections": [],
      "include_colab_link": true
    },
    "kernelspec": {
      "name": "python3",
      "display_name": "Python 3"
    },
    "accelerator": "GPU"
  },
  "cells": [
    {
      "cell_type": "markdown",
      "metadata": {
        "id": "view-in-github",
        "colab_type": "text"
      },
      "source": [
        "<a href=\"https://colab.research.google.com/github/njmathai/IntroML/blob/master/ECE1513_Introduction_to_JAX.ipynb\" target=\"_parent\"><img src=\"https://colab.research.google.com/assets/colab-badge.svg\" alt=\"Open In Colab\"/></a>"
      ]
    },
    {
      "cell_type": "markdown",
      "metadata": {
        "id": "_Vw6FR1FUfD1"
      },
      "source": [
        "# 1.0 Introduction to JAX\n",
        "Main references:\n",
        "- [1] https://github.com/google/jax\n",
        "\n",
        "- [2] https://colindcarroll.com/2019/04/06/exercises-in-automatic-differentiation-using-autograd-and-jax/\n",
        "\n",
        "- [3] https://github.com/HIPS/autograd/blob/master/docs/tutorial.md\n",
        "- [4] https://colinraffel.com/blog/you-don-t-know-jax.html\n",
        "- [5] https://jax.readthedocs.io/en/latest/notebooks/autodiff_cookbook.html\n",
        "\n",
        "\n",
        "*At its core, JAX is an extensible system for transforming numerical functions.* JAX implements an updated version of **autograd**. Autograd's `grad` function takes in a **scalar** function, and returns to you the gradient function. \n",
        "\n",
        " In this tutorial we will go through some of the main features included in the JAX package: ```grad``` and ```jit```.\n",
        "\n",
        " One of the main features you will probably use during this course is the ```grad``` function for computing gradients of your loss functions with respect to your model's weights.\n"
      ]
    },
    {
      "cell_type": "markdown",
      "metadata": {
        "id": "CnUOTQXHqMfv"
      },
      "source": [
        "## 1.1 Step-by-step example on how to use ```jax.grad``` for auto-differentiation.\n",
        "\n",
        "**1) Define your function**\n",
        "\n",
        "$$y = \\sigma(wx + b),\\ \\sigma(x)=\\frac{1}{1+e^{-x}}$$"
      ]
    },
    {
      "cell_type": "code",
      "metadata": {
        "id": "4l38DEGQUitN"
      },
      "source": [
        "import jax.numpy as np\n",
        "from jax import grad, jit, vmap, random, value_and_grad\n",
        "import itertools\n",
        "import time\n",
        "\n",
        "\n",
        "key = random.PRNGKey(1)\n",
        "\n",
        "x = random.normal(key)\n",
        "w = random.normal(key+1)\n",
        "b = random.normal(key+2)\n",
        "\n",
        "def sigmoid(x):\n",
        "    return 1/(1 + np.exp(-x))\n",
        "\n",
        "# \n",
        "def make_linear_sigmoid(x): \n",
        "  def predict(W, b): # Here, you define the function with the parameters that define your model\n",
        "    return sigmoid(np.dot(x, W) + b)\n",
        "  return predict "
      ],
      "execution_count": null,
      "outputs": []
    },
    {
      "cell_type": "markdown",
      "metadata": {
        "id": "n6F1D2CpUvDK"
      },
      "source": [
        "## **2) Define your gradient with respect to the fitting weights**\n",
        "\n",
        "\n",
        "The function `grad` takes as arguments:\n",
        "-  `fun`: the numpy **function** for which the computation of the gradients is needed.\n",
        "- `argnums`: the **arguments** of the functions  with respect to which the function will be differentiated\n",
        "\n",
        "```\n",
        "grad_not_jit(fun = make_linear_sigmoid(x),\n",
        "                              argnums =  (0,1))\n",
        "\n",
        "```\n",
        "Returns the evaluated **gradients**.\n",
        "\n",
        "\n",
        "\n",
        "---\n",
        "**Quick quiz**: what would you change in the code above if you needed to differentiate the function only with respect to $b$?\n"
      ]
    },
    {
      "cell_type": "markdown",
      "metadata": {
        "id": "hSKXLHE0U2p2"
      },
      "source": [
        "**Using jit to speed up functions (VERY IMPORTANT FOR THE FUTURE)**\n",
        "\n",
        "JAX provides jit (just in time compiler) which takes Python (using numpy) functions and compiles them such that they can be run efficiently on the chosen accelerators (CPU/GPU/TPU). Using jit could significantly speed up your computations and it requires little to no overhead in your coding. Let's have a look at a simple example. It is sufficient to use the jit decorator in front of your function such that the declared operation are compiled in advance (only once) and the code will run much more efficiently without any interpreter overhead."
      ]
    },
    {
      "cell_type": "code",
      "metadata": {
        "id": "RlNiA1psU4u6",
        "colab": {
          "base_uri": "https://localhost:8080/",
          "height": 258
        },
        "outputId": "59afbe25-7b13-4a5b-bf1e-3164cea26a8f"
      },
      "source": [
        "# I am ignoring the values returned for timing because of issues with the scoping of functions (timeit issue)\n",
        "grad_not_jit = grad(make_linear_sigmoid(x), (0,1))\n",
        "%timeit _, _ = grad_not_jit(w,b) # AUTOGRAD\n",
        "\n",
        "grad_jit = jit(grad(make_linear_sigmoid(x), (0,1)))\n",
        "%timeit _, _ = grad_jit(w,b) # AUTOGRAD\n",
        "\n",
        "# Check with the analytical computation\n",
        "w_gradient , b_gradient = grad_jit(w,b) # AUTOGRAD\n",
        "\n",
        "w_gradient_manual = sigmoid(np.dot(x, w) + b) * (1 - sigmoid(np.dot(x, w) + b)) * x\n",
        "b_gradient_manual = sigmoid(np.dot(x, w) + b) * (1 - sigmoid(np.dot(x, w) + b)) \n",
        "\n",
        "print()\n",
        "print('Autograd result : w')\n",
        "print(w_gradient)\n",
        "print('Manually derived result : w')\n",
        "print(w_gradient_manual)\n",
        "\n",
        "print('Autograd result : b')\n",
        "print(b_gradient)\n",
        "print('Manually derived result : b')\n",
        "print(b_gradient_manual)"
      ],
      "execution_count": null,
      "outputs": [
        {
          "output_type": "stream",
          "text": [
            "The slowest run took 126.74 times longer than the fastest. This could mean that an intermediate result is being cached.\n",
            "1 loop, best of 3: 3.82 ms per loop\n",
            "The slowest run took 725.32 times longer than the fastest. This could mean that an intermediate result is being cached.\n",
            "10000 loops, best of 3: 153 µs per loop\n",
            "\n",
            "Autograd result : w\n",
            "-0.26804116\n",
            "Manually derived result : w\n",
            "-0.2680411\n",
            "Autograd result : b\n",
            "0.22633177\n",
            "Manually derived result : b\n",
            "0.22633173\n"
          ],
          "name": "stdout"
        }
      ]
    },
    {
      "cell_type": "markdown",
      "metadata": {
        "id": "zafRRNriqeyq"
      },
      "source": [
        "#2.0 Review of Linear Regression\n",
        "As studied in your lecture, in linear regression, we are given a data set $\\mathcal{D} =  \\{(x_n,t_n)\\}_{n=1}^N$, where $x_n = \\mathbb{R}^d$, where $d \\geq 1$ represents the dimension of your data,  and $t_n \\in \\mathbb{R}$ which are the target values that each data $x_n$ corresponds to. \n",
        "\n",
        "Next, we seek a prediction function $y$ that takes in $x_n$ and outputs a prediction vector,\n",
        "$$\n",
        "  y(x) = \\textstyle\\sum\\limits_{i = 1}^d w_i x_i + b.\n",
        "$$  \n",
        "\n",
        "Let the squared loss be defined as,\n",
        "\\begin{equation}\n",
        "\t\\mathcal{L}(x,t) = \\dfrac{1}{2}(y(x) - t)^2, t \\in \\mathbb{R} \n",
        "\\end{equation}\n",
        "We can then the optimal prediction function by minimizing the mean squared error,\n",
        "\\begin{equation}\n",
        "\t\t\\mathcal{E}(w) = \\dfrac{1}{2N}\\sum\\limits_{n=1}^N \\mathcal{L}(x_n, t_n) = \\dfrac{1}{2N}\\sum\\limits_{n=1}^N (w^\\top x_n + b - t_n)^2 \\tag*{(mse)}\n",
        "\\end{equation}"
      ]
    },
    {
      "cell_type": "markdown",
      "metadata": {
        "id": "iNxXD6S6CXGb"
      },
      "source": [
        "In the following code, you will generate a data set $\\mathcal{D}$ consisting of $20$ 1D data points $x_n$ sampled from a uniform distribution along with targets $t_n$ assumed to be given by the formula,\n",
        "\n",
        "$$\n",
        "  t_n = \\sin(\\pi x_n) + 0.3*\\epsilon, \\epsilon \\sim \\mathcal{N}(0,1)\n",
        "$$\n",
        "Let us visualize these data point using the Matplotlib package. "
      ]
    },
    {
      "cell_type": "code",
      "metadata": {
        "id": "lo79VxXU_hTe",
        "colab": {
          "base_uri": "https://localhost:8080/",
          "height": 265
        },
        "outputId": "449e25ec-3918-4f73-fbfe-dba43adf1f20"
      },
      "source": [
        "n, d = 20, 1 #n represents data points and d represents the number of dimensions\n",
        "\n",
        "x = random.uniform(key, (n, d), dtype=np.float64,  minval = -5., maxval = 5.)    \n",
        "t = np.sin(np.pi*x) + 0.3*random.normal(key, (n, d))    \n",
        "\n",
        "import matplotlib.pyplot as plt\n",
        "\n",
        "plt.scatter(x, t)\n",
        "plt.show()"
      ],
      "execution_count": null,
      "outputs": [
        {
          "output_type": "display_data",
          "data": {
            "image/png": "[encoded data removed]",
            "text/plain": [
              "<Figure size 432x288 with 1 Axes>"
            ]
          },
          "metadata": {
            "tags": []
          }
        }
      ]
    },
    {
      "cell_type": "markdown",
      "metadata": {
        "id": "BWZKrSwX_zEp"
      },
      "source": [
        "## 2.1 Directly Solving for $w^\\star$ Using the Normal Equation\n",
        "\n",
        "Since our data set is small, therefore we can directly find the optimal predictor using a bit of linear algebra.\n",
        "\n",
        "To account for the bias term, it is common to redefining our data and weight as $x_n := \\begin{bmatrix} 1 & x_n^\\top \\end{bmatrix}$ and $w := \\begin{bmatrix} b & w^\\top \\end{bmatrix}$, \n",
        "$$\n",
        "  y(x_n) = \\textstyle\\sum\\limits_{i = 1}^{d+1} w_i x_{n_i} = w^\\top x_n.\n",
        "$$\n",
        "\n",
        "Then, we can show that our mean squared error can be equivalently written as $$\\mathcal{E}(w) =    \\dfrac{1}{2N} \\|Xw-t\\|^2_2,$$\n",
        "where \\begin{equation}\n",
        "X = \\begin{bmatrix} x_1^\\top \\\\ \\vdots \\\\ x_N^\\top \\end{bmatrix}  \\in \\mathbb{R}^{N \\times (d+1)} \\quad \\text{and} \\quad t = \\begin{bmatrix} t_1\\\\ \\vdots \\\\ t_N \\end{bmatrix} \\in \\mathbb{R}^N\n",
        "\\end{equation}\n",
        "\n",
        "It can be shown that, $$w^\\star = (X^\\top X)^{-1}X^\\top t$$ minimizes the mean-squared error $\\mathcal{E}$. This expression is sometimes referred to as the *normal equation*. \n",
        "\n",
        "**In the space below, build the matrix $X$ and find the optimal solution $w^\\star$. Afterwards, plot the optimal prediction function against your dataset.**\n"
      ]
    },
    {
      "cell_type": "code",
      "metadata": {
        "id": "eKBI6I6FDewW"
      },
      "source": [
        "#Bult the X matrix here\n",
        "X = \n",
        "\n",
        "#Compute w using the normal equation\n",
        "w = \n",
        "\n",
        "#Write your optimal predictor here\n",
        "y = \n",
        "\n",
        "#Plot your prediction against data points\n"
      ],
      "execution_count": null,
      "outputs": []
    },
    {
      "cell_type": "markdown",
      "metadata": {
        "id": "lJb5DlnU_MmR"
      },
      "source": [
        "## 2.2 Find $w^\\star$ Using Gradient Descent\n",
        "\n",
        "Next, you will use gradient descent to find the solution to the linear regression problem. Recall that the update equation for gradient descent (as studied in class) is given by,\n",
        "\n",
        "$$w_{k+1} = w_k - \\alpha \\nabla \\mathcal{E}(w_k)$$\n",
        "\n",
        "$\\alpha$ is our learning rate which is usually a small number, e.g., $0.1$\n",
        "\n",
        "**Implement a jax routine for calculating the gradient of $\\mathcal{E}$, and then run the gradient descent algorithm (say, for 100 iterations) until the optimal weight is found.** "
      ]
    },
    {
      "cell_type": "markdown",
      "metadata": {
        "id": "YdtO4WdyVyGW"
      },
      "source": [
        "### 2.2.1 **Define the mse function**\n",
        "\n",
        "Hint: your code could be similar to how we built the logistic function at the beginning"
      ]
    },
    {
      "cell_type": "code",
      "metadata": {
        "id": "prvljG9lV8DI"
      },
      "source": [
        "# Build the mse function here\n"
      ],
      "execution_count": null,
      "outputs": []
    },
    {
      "cell_type": "markdown",
      "metadata": {
        "id": "_MhXNfNGV995"
      },
      "source": [
        "### 2.2.2 **Implement Gradient Descent and Run for (say, 100) Interations**\n",
        "\n",
        "\n",
        "$$w_{k+1} = w_k - \\alpha \\nabla \\mathcal{E}(w_k)$$\n",
        "\n",
        "Hint: The function `grad` takes as arguments:\n",
        "-  `fun`: the numpy **function** for which the computation of the gradients is needed.\n",
        "- `argnums`: the **arguments** of the functions  with respect to which the function will be differentiated\n",
        "\n",
        "Example:\n",
        "```\n",
        "w_gradient, b_gradient = grad(fun = make_mse(x, t), argnums = (0,1))(w,b) \n",
        "```\n",
        "\n",
        "Then use calculated the gradient in your gradient descent update in a FOR loop\n",
        "."
      ]
    },
    {
      "cell_type": "code",
      "metadata": {
        "id": "yvKaU7Oj9jtm"
      },
      "source": [
        "alpha = \n",
        "iterations = \n",
        "\n",
        "# Update w, b by calculating the gradient and making the update. \n"
      ],
      "execution_count": null,
      "outputs": []
    },
    {
      "cell_type": "markdown",
      "metadata": {
        "id": "cc9nsGzzWtIl"
      },
      "source": [
        "### 2.2.3 **Build your optimal linear prediction function and visualize your fit to the data**\n"
      ]
    },
    {
      "cell_type": "code",
      "metadata": {
        "id": "l_7U1E_YW-8K"
      },
      "source": [
        "# Your optimal linear prediction function here\n",
        "\n",
        "\n",
        "\n",
        "# Visualize your data and your fit\n"
      ],
      "execution_count": null,
      "outputs": []
    },
    {
      "cell_type": "markdown",
      "metadata": {
        "id": "sLQ6TKZ2Xk8G"
      },
      "source": [
        "### 2.2.4 **(Optional) You can use jit to speed calculation.** \n",
        "\n",
        "**Repeat the gradient descent procedure as before but using jit to speed up the calculation of gradients.**"
      ]
    },
    {
      "cell_type": "code",
      "metadata": {
        "id": "cugsYg-zXv_0"
      },
      "source": [
        "# Build your jitted gradient descent iteration here"
      ],
      "execution_count": null,
      "outputs": []
    },
    {
      "cell_type": "markdown",
      "metadata": {
        "id": "mQJ1rmRrBdbT"
      },
      "source": [
        "#3.0 Overfitting and Regularization\n",
        "\n",
        "The goal of supervised machine learning is to make accurate predictions on data that are not from the training set, also known as the *test set*. However it is not guaranteed that the more data we train on, the better we will perform on the test set. \n",
        "\n",
        "It could happen that we fit our training set too well, so that a test data that does not look like the training data will cause a large error in our prediction. This is called **overfitting**: the scenario when a predictor that achieves a lower error on the training set results in a large error on the test set.\n",
        "\n",
        "To overcome overfitting, we can use a technique called regularization, which involves adding a function on to our mean squared error. In the following examples, we will step through several examples of regularization techniques. "
      ]
    },
    {
      "cell_type": "markdown",
      "metadata": {
        "id": "tpN2YCd6rZN-"
      },
      "source": [
        "## 3.1 Building a Dataset\n",
        "\n",
        "The code below creates a data set of  $n = 100$ examples generated from uniformly from $[-5, 5]$, each example is $5$ dimensional. The targets are assigned as follows, $$t  = x^\\top \\overline w + 0.1 * \\epsilon, \\epsilon \\sim \\mathcal{N}(0,1)$$ \n",
        "where $\\overline w$ is a randomly generated vector with normal distribution. \n",
        "\n",
        "\n",
        "**Your first task is to partition the data into 50 test examples, 20 validation examples and 30 test examples.** "
      ]
    },
    {
      "cell_type": "code",
      "metadata": {
        "id": "E3K6GbuJA6g2"
      },
      "source": [
        "d = 5                             #dimension of your data\n",
        "n = 100                           #total number of data points\n",
        "n_train = 50                      #total number of training examples\n",
        "n_validate = 20                   #total number of examples for validation \n",
        "n_test = 30                       #total number of examples for testing\n",
        "\n",
        "x_data = random.uniform(key, (n, d), dtype=np.float64,  minval = -5., maxval = 5.)    \n",
        "true_w = random.normal(key, (d,))\n",
        "t_data = x_data.dot(true_w) + 0.1 * random.normal(key, (n,))\n",
        "\n",
        "#Partition into training, validation and test set\n",
        "x_train = \n",
        "x_val = \n",
        "x_test = \n",
        "\n",
        "t_train = \n",
        "t_val = \n",
        "t_test = "
      ],
      "execution_count": null,
      "outputs": []
    },
    {
      "cell_type": "markdown",
      "metadata": {
        "id": "Lo_PLbWzdCBX"
      },
      "source": [
        "## 3.2 Solve for $w^\\star$ Using Gradient Descent\n",
        "\n",
        "Next, using the same linear regresion code that you have built above, using gradient descent, compute the optimal predictor $y = x^\\top w^\\star + b^\\star$ corresponding to the mean-squared error \n",
        "$$\\mathcal{E}(w) = \\dfrac{1}{2N}\\sum\\limits_{n=1}^N (w^\\top x_n + b - t_n)^2$$ \n",
        "\n",
        "Afterwards, find the error between the predicted targets on the test set versus the true test targets using the formula,\n",
        "$$\\|y_\\text{test}- t_\\text{test}\\|_2$$\n",
        "where $y_\\text{test}$ is your prediction on the test set. "
      ]
    },
    {
      "cell_type": "code",
      "metadata": {
        "id": "239r52sHRgsK"
      },
      "source": [
        "#Define your mse function here \n",
        " \n",
        "\n",
        "#Perform gradient descent\n",
        "\n",
        "\n",
        "#Compute and print your test error\n",
        "\n"
      ],
      "execution_count": null,
      "outputs": []
    },
    {
      "cell_type": "markdown",
      "metadata": {
        "id": "dl1r0yIScAo7"
      },
      "source": [
        "## 3.3 $l_2$ regularization\n",
        "\n",
        "The first regularization technique we will introduce is called $l_2$ regularization. \n",
        "\n",
        "We define our mean-squared loss function as\n",
        "$$\\mathcal{E}_{l_2}(w) = \\dfrac{1}{2N}\\sum\\limits_{n=1}^N (w^\\top x_n + b - t_n)^2 + \\dfrac{\\lambda_2}{2}\\|w\\|^2_2$$\n",
        "where $\\lambda_2$ is a small positive constant we refer to as the regularization constant, e.g., $r = 0.01$. \n",
        "\n",
        "This optimization problem is called *ridge regression*. \n",
        "\n",
        "Make slight changes to your previous code to account for the $l_2$ norm, and using gradient descent, compute the optimal predictor $y = x^\\top w^\\star + b^\\star$ corresponding to this regularized mean-squared error."
      ]
    },
    {
      "cell_type": "code",
      "metadata": {
        "id": "n-uUXTKk2WqK"
      },
      "source": [
        "#Define your mse function here \n",
        " \n",
        "\n",
        "#Perform gradient descent\n",
        "\n",
        "\n"
      ],
      "execution_count": null,
      "outputs": []
    },
    {
      "cell_type": "markdown",
      "metadata": {
        "id": "7qu-GjdOuir0"
      },
      "source": [
        "### 3.3.1 Hyperparameter Tuning Using Validation Set\n",
        "\n",
        "Next, you are going to tune the regularization parameter $\\lambda_2$ using your validation set. \n",
        "\n",
        "Train several different models for $\\lambda_2 \\in \\{0.1, 0.01, 0.001\\}$. Then compute the error between your prediction on the validation set and the corresponding targets using the formula,\n",
        "$$\\|y_\\text{val}- t_\\text{val}\\|_2$$\n",
        "\n",
        "Pick the best performing model."
      ]
    },
    {
      "cell_type": "code",
      "metadata": {
        "id": "z5_AF5SjdJnK"
      },
      "source": [
        "#Your code Here"
      ],
      "execution_count": null,
      "outputs": []
    },
    {
      "cell_type": "markdown",
      "metadata": {
        "id": "5sydfmSVuvRU"
      },
      "source": [
        "### 3.3.2 Compute Test Error\n",
        "\n",
        "Finally, using the best performing model, find the error between the predicted targets on the test set versus the true test targets using the formula,\n",
        "$$\\|y_\\text{test}- t_\\text{test}\\|_2$$\n",
        "where $y_\\text{test}$ is your prediction on the test set. "
      ]
    },
    {
      "cell_type": "code",
      "metadata": {
        "id": "q2rMuty9dIU2"
      },
      "source": [
        "# Your code Here"
      ],
      "execution_count": null,
      "outputs": []
    },
    {
      "cell_type": "markdown",
      "metadata": {
        "id": "A18w7Gr9cJ0m"
      },
      "source": [
        "## 3.4 $l_1$ Regularization \n",
        "\n",
        "The next regularization technique we will introduce is called $l_1$ regularization. \n",
        "\n",
        "We define our mean-squared loss function as \n",
        "$$\\mathcal{E}_{l_1}(w) = \\dfrac{1}{2N}\\sum\\limits_{n=1}^N (w^\\top x_n + b - t_n)^2 + \\dfrac{\\lambda_1}{2}\\|w\\|_1$$\n",
        "where $\\lambda_1$ is again our regularization constant.\n",
        "\n",
        "This optimization problem is called the *LASSO*. \n",
        "\n",
        "**Repeat the previous experiment by training several different models and choosing the best one based on its performance on the validation set.** \n",
        "\n",
        "**Finally, pick the best performing model and use it to find the error between the predicted targets on the test set versus the true test targets.**"
      ]
    },
    {
      "cell_type": "code",
      "metadata": {
        "id": "ncDETNSk_--d"
      },
      "source": [
        "# Your code here"
      ],
      "execution_count": null,
      "outputs": []
    },
    {
      "cell_type": "markdown",
      "metadata": {
        "id": "jr1f2ax2cQ6V"
      },
      "source": [
        "## 3.5 Approximate $l_1$ Regularization\n",
        "\n",
        "A technicality is that the  $l_1$ norm is not differentiable, so JAX was actually avoiding the non-differentiable points.\n",
        "\n",
        "To address the non-differentiability of $l_1$ norm, Schmidt *et al.* [1] proposed a differentiable approximation to the $l_1$ norm.\n",
        "\n",
        "In this case, we define our mean-squared loss function as \n",
        "$$\\mathcal{E}_{\\widetilde{l_1}}(w) = \\dfrac{1}{2N}\\sum\\limits_{n=1}^N (w^\\top x_n + b - t_n)^2 + \\sum\\limits_{i = 1}^d \\dfrac{\\lambda}{a} (\\log(1+\\exp(a w_i)) + \\log(1-\\exp(-a w_i)))$$\n",
        "where both $a$ and $\\lambda$ are regularization constants.\n",
        "\n",
        "\n",
        "**Repeat the previous experiments by training several different models and choosing the best one based on its performance on the validation set.** \n",
        "\n",
        "(For convenience, you can fix $a$, say $a = 0.1$. Alternatively you can tune both $a$ and $\\lambda$)\n",
        "\n",
        "**Finally, pick the best performing model and use it to find the error between the predicted targets on the test set versus the true test targets.**\n",
        "\n",
        "[1] *Mark Schmidt, Glenn Fung, and Rmer Rosales. Fast\n",
        "optimization methods for l1 regularization: A comparative study and two new approaches. In European Conference on Machine Learning, pages 286–297.\n",
        "Springer, 2007.*"
      ]
    },
    {
      "cell_type": "code",
      "metadata": {
        "id": "lNpXfqcJVhQd"
      },
      "source": [
        "# Your code here"
      ],
      "execution_count": null,
      "outputs": []
    },
    {
      "cell_type": "markdown",
      "metadata": {
        "id": "tyCNgrkzcW3r"
      },
      "source": [
        "## 3.6 Elastic Net\n",
        "\n",
        "Finally, we can define our mean-squared loss function as a combination of $l_1$ and $l_2$ norm, \n",
        "$$\\mathcal{E}_{l_1+l_2}(w) = \\dfrac{1}{2N}\\sum\\limits_{n=1}^N (w^\\top x_n + b - t_n)^2 + \\frac{r_1}{2}\\|w\\|_1 + \\dfrac{r_2}{2}\\|w\\|_2^2$$\n",
        "\n",
        "This regularizer is called the elastic net. \n",
        "\n",
        "**Repeat the previous experiments by training several different models and choosing the best one based on its performance on the validation set.** \n",
        "\n",
        "**Finally, pick the best performing model and use it to find the error between the predicted targets on the test set versus the true test targets.**"
      ]
    },
    {
      "cell_type": "code",
      "metadata": {
        "id": "YZOjqRiPLtmr"
      },
      "source": [
        "# Your code here: \n"
      ],
      "execution_count": null,
      "outputs": []
    },
    {
      "cell_type": "markdown",
      "metadata": {
        "id": "8hTRuzINYcwz"
      },
      "source": [
        "## 3.7 Report what you find\n",
        "\n",
        "How does the weight and bias compare under each regularization scheme? Which regularizer does the best on the test set?"
      ]
    },
    {
      "cell_type": "markdown",
      "metadata": {
        "id": "l4EfhAAht8qH"
      },
      "source": [
        "Report your finding here:"
      ]
    }
  ]
}