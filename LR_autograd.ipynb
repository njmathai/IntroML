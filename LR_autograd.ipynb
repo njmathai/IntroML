{
  "nbformat": 4,
  "nbformat_minor": 0,
  "metadata": {
    "colab": {
      "name": "LR_autograd",
      "provenance": [],
      "collapsed_sections": [],
      "include_colab_link": true
    },
    "kernelspec": {
      "name": "python3",
      "display_name": "Python 3"
    },
    "accelerator": "GPU"
  },
  "cells": [
    {
      "cell_type": "markdown",
      "metadata": {
        "id": "view-in-github",
        "colab_type": "text"
      },
      "source": [
        "<a href=\"https://colab.research.google.com/github/njmathai/IntroML/blob/master/LR_autograd.ipynb\" target=\"_parent\"><img src=\"https://colab.research.google.com/assets/colab-badge.svg\" alt=\"Open In Colab\"/></a>"
      ]
    },
    {
      "cell_type": "markdown",
      "metadata": {
        "id": "ON4WbEBvk9Z9",
        "colab_type": "text"
      },
      "source": [
        "# Linear Regression\n",
        "## Predicting Student's marks from Study Hours"
      ]
    },
    {
      "cell_type": "markdown",
      "metadata": {
        "id": "RKxoZ5lknWll",
        "colab_type": "text"
      },
      "source": [
        "### Import Libraries"
      ]
    },
    {
      "cell_type": "code",
      "metadata": {
        "id": "Lq6qDjhHnbak",
        "colab_type": "code",
        "colab": {}
      },
      "source": [
        "import autograd.numpy as np # for autograd, need to use autograd's numpy!\n",
        "import matplotlib.pyplot as plt\n",
        "from autograd import grad # autograd!"
      ],
      "execution_count": 0,
      "outputs": []
    },
    {
      "cell_type": "markdown",
      "metadata": {
        "id": "W5b_-H-zn3_O",
        "colab_type": "text"
      },
      "source": [
        "### Read Data"
      ]
    },
    {
      "cell_type": "code",
      "metadata": {
        "id": "T1a23JYWn5oM",
        "colab_type": "code",
        "colab": {}
      },
      "source": [
        "data = np.genfromtxt('https://raw.githubusercontent.com/kaustubholpadkar/Linear_Regression-Gradient_Descent-Octave/master/data.csv', delimiter=',')"
      ],
      "execution_count": 0,
      "outputs": []
    },
    {
      "cell_type": "code",
      "metadata": {
        "id": "Ip2EQ_PGoQJO",
        "colab_type": "code",
        "outputId": "bd0c3030-69a6-4e4d-9c1b-99f5e8c95cc2",
        "colab": {
          "base_uri": "https://localhost:8080/",
          "height": 34
        }
      },
      "source": [
        "data.shape"
      ],
      "execution_count": 0,
      "outputs": [
        {
          "output_type": "execute_result",
          "data": {
            "text/plain": [
              "(100, 2)"
            ]
          },
          "metadata": {
            "tags": []
          },
          "execution_count": 176
        }
      ]
    },
    {
      "cell_type": "markdown",
      "metadata": {
        "id": "8rMv-L53odN5",
        "colab_type": "text"
      },
      "source": [
        "### Seperate Data into X and Y"
      ]
    },
    {
      "cell_type": "code",
      "metadata": {
        "id": "uop_AFQSolHl",
        "colab_type": "code",
        "colab": {}
      },
      "source": [
        "X = data[:, 0]\n",
        "Y = data[:, 1]"
      ],
      "execution_count": 0,
      "outputs": []
    },
    {
      "cell_type": "markdown",
      "metadata": {
        "id": "wPSTKDAXpLAN",
        "colab_type": "text"
      },
      "source": [
        "### Visualize the Data"
      ]
    },
    {
      "cell_type": "code",
      "metadata": {
        "id": "qdTK7EOQpL5Y",
        "colab_type": "code",
        "outputId": "74c14798-8012-4dea-8499-15d129dcbcb4",
        "colab": {
          "base_uri": "https://localhost:8080/",
          "height": 312
        }
      },
      "source": [
        "fig = plt.figure()\n",
        "plt.scatter(X, Y)\n",
        "fig.suptitle('Student Data : Expected Marks vs Hours of Study', fontsize=18)\n",
        "plt.xlabel('Hours of Study', fontsize=14)\n",
        "plt.ylabel('Expected Marks', fontsize=14)\n",
        "plt.show()"
      ],
      "execution_count": 0,
      "outputs": [
        {
          "output_type": "display_data",
          "data": {
            "image/png": "[encoded data removed]",
            "text/plain": [
              "<Figure size 432x288 with 1 Axes>"
            ]
          },
          "metadata": {
            "tags": []
          }
        }
      ]
    },
    {
      "cell_type": "markdown",
      "metadata": {
        "id": "Yrjucdifq_mt",
        "colab_type": "text"
      },
      "source": [
        "### Hyperparameters"
      ]
    },
    {
      "cell_type": "code",
      "metadata": {
        "id": "OwVfkk3RrC_I",
        "colab_type": "code",
        "colab": {}
      },
      "source": [
        "learning_rate = 0.0001\n",
        "max_iteration = 40"
      ],
      "execution_count": 0,
      "outputs": []
    },
    {
      "cell_type": "markdown",
      "metadata": {
        "id": "EzXaG70OrZtn",
        "colab_type": "text"
      },
      "source": [
        "### Parameters"
      ]
    },
    {
      "cell_type": "code",
      "metadata": {
        "id": "2INJM9AIrcBu",
        "colab_type": "code",
        "colab": {}
      },
      "source": [
        "m = 0.0 # with autograd need to assign floats!\n",
        "b = 0.0 "
      ],
      "execution_count": 0,
      "outputs": []
    },
    {
      "cell_type": "markdown",
      "metadata": {
        "id": "FPt2eKjBr1Lx",
        "colab_type": "text"
      },
      "source": [
        "### Hypothesis"
      ]
    },
    {
      "cell_type": "code",
      "metadata": {
        "id": "enVE4tHWsBBF",
        "colab_type": "code",
        "colab": {}
      },
      "source": [
        "def h (m, b, X) :\n",
        "  return m * X + b"
      ],
      "execution_count": 0,
      "outputs": []
    },
    {
      "cell_type": "markdown",
      "metadata": {
        "id": "IA9I6vaXs7nb",
        "colab_type": "text"
      },
      "source": [
        "### Loss Function"
      ]
    },
    {
      "cell_type": "code",
      "metadata": {
        "id": "3KOQVUjBs-Ub",
        "colab_type": "code",
        "colab": {}
      },
      "source": [
        "# when we did this without autograd, the loss was NOT used in the optimization!\n",
        "# it was just used to print a diagnostic message during the optimization\n",
        "# here, with autograd, we are going to use loss directly (see gradientAG)\n",
        "def loss (m, b, X, Y):\n",
        "  return (1/np.size(Y))*np.sum(np.square(Y - h(m, b, X))) / 2\n",
        "# for autograd to work, need to remove use of np.average\n",
        "# and replace with 1/N * np.sum... in the loss function\n",
        "# because ow autograd will complain that it can't do its\n",
        "# thing with np.average (and in an obscure manner)\n"
      ],
      "execution_count": 0,
      "outputs": []
    },
    {
      "cell_type": "markdown",
      "metadata": {
        "id": "7TE79NG-tyLG",
        "colab_type": "text"
      },
      "source": [
        "### Calculate Gradients"
      ]
    },
    {
      "cell_type": "code",
      "metadata": {
        "id": "yy9yxye4t0BJ",
        "colab_type": "code",
        "colab": {}
      },
      "source": [
        "# old gradient function that was manually derived from the loss function\n",
        "# not used in the autograd version\n",
        "def gradient (m, b, X, Y) :\n",
        "  dm = - np.average((Y - h(m, b, X)) * X)\n",
        "  db = - np.average(Y - h(m, b, X))\n",
        "  return (dm, db)"
      ],
      "execution_count": 0,
      "outputs": []
    },
    {
      "cell_type": "code",
      "metadata": {
        "id": "kJIXPe5n4QX8",
        "colab_type": "code",
        "colab": {}
      },
      "source": [
        "# autograd is used to derive the gradients\n",
        "grad_loss_m = grad(loss,0) # grad of loss wrt 0th arg, m\n",
        "grad_loss_b = grad(loss,1) # grad of loss wrt 1st arg, b\n",
        "\n",
        "def gradientAG (m, b, X, Y) :\n",
        "  dm = grad_loss_m(m,b,X,Y)\n",
        "  db = grad_loss_b(m,b,X,Y)\n",
        "  return (dm, db)\n",
        "# debug stuff ... used to figure out why autograd complained\n",
        "# when loss had an np.average in it; keeping it in the code\n",
        "# so students can understand how to debug something...\n",
        "#print(\"m\",m)\n",
        "#print(\"b\",b)\n",
        "#print(\"X\",X)\n",
        "#print(\"Y\",Y)\n",
        "#f=grad(loss,0)\n",
        "#gradientAG(m,b,X,Y)\n",
        "#help(f)\n",
        "#f=grad(loss)\n",
        "#f(m,b,X,Y)\n"
      ],
      "execution_count": 0,
      "outputs": []
    },
    {
      "cell_type": "markdown",
      "metadata": {
        "id": "jVo5TbKyu9KL",
        "colab_type": "text"
      },
      "source": [
        "### Gradient Descent"
      ]
    },
    {
      "cell_type": "code",
      "metadata": {
        "id": "fprg4-tcu-4v",
        "colab_type": "code",
        "colab": {}
      },
      "source": [
        "def gradient_descent (m, b, X, Y, learning_rate, max_iteration) :\n",
        "  for i in range(max_iteration) :\n",
        "    # replace the call to gradient with gradientAG for autograd\n",
        "    dm, db = gradientAG (m, b, X, Y)\n",
        "    m -= learning_rate * dm\n",
        "    b -= learning_rate * db\n",
        "    if i % 10 == 0 :\n",
        "      print ('iteration : ', i, ' loss : ', loss(m, b, X, Y)) \n",
        "  return (m, b)"
      ],
      "execution_count": 0,
      "outputs": []
    },
    {
      "cell_type": "markdown",
      "metadata": {
        "id": "uMIZFxUhwQZO",
        "colab_type": "text"
      },
      "source": [
        "### Train Model"
      ]
    },
    {
      "cell_type": "code",
      "metadata": {
        "id": "-0okDGSCwUC7",
        "colab_type": "code",
        "outputId": "0918a0f9-e91b-457f-a757-93bd21e93870",
        "colab": {
          "base_uri": "https://localhost:8080/",
          "height": 85
        }
      },
      "source": [
        "m, b = gradient_descent (m, b, X, Y, learning_rate, max_iteration)"
      ],
      "execution_count": 0,
      "outputs": [
        {
          "output_type": "stream",
          "text": [
            "iteration :  0  loss :  1593.1334591670338\n",
            "iteration :  10  loss :  61.30482288585254\n",
            "iteration :  20  loss :  56.34127863702311\n",
            "iteration :  30  loss :  56.32510567688098\n"
          ],
          "name": "stdout"
        }
      ]
    },
    {
      "cell_type": "markdown",
      "metadata": {
        "id": "MFp2MUlexVd5",
        "colab_type": "text"
      },
      "source": [
        "### Optimal values of Parameters using Trained Model"
      ]
    },
    {
      "cell_type": "code",
      "metadata": {
        "id": "tcMQWkuvwYu7",
        "colab_type": "code",
        "outputId": "03158867-5e7c-4bf1-eef7-91711c780b94",
        "colab": {
          "base_uri": "https://localhost:8080/",
          "height": 34
        }
      },
      "source": [
        "m, b"
      ],
      "execution_count": 0,
      "outputs": [
        {
          "output_type": "execute_result",
          "data": {
            "text/plain": [
              "(1.4788816395347437, 0.030269239406545283)"
            ]
          },
          "metadata": {
            "tags": []
          },
          "execution_count": 187
        }
      ]
    },
    {
      "cell_type": "markdown",
      "metadata": {
        "id": "vsa_VlHd8ged",
        "colab_type": "text"
      },
      "source": [
        "### Linear Regression using *polyfit*  function of **numpy**"
      ]
    },
    {
      "cell_type": "code",
      "metadata": {
        "id": "WJajnpzW8p2L",
        "colab_type": "code",
        "colab": {}
      },
      "source": [
        "np_m, np_b = np.polyfit(X, Y, 1)"
      ],
      "execution_count": 0,
      "outputs": []
    },
    {
      "cell_type": "markdown",
      "metadata": {
        "id": "MjJ7Di8z8-Qb",
        "colab_type": "text"
      },
      "source": [
        "### Optimal values of Parameters using Numpy Linear Regression"
      ]
    },
    {
      "cell_type": "code",
      "metadata": {
        "id": "z4G5h9Ki7IJi",
        "colab_type": "code",
        "outputId": "10439235-c281-45fb-ccde-2bf5e0c18aff",
        "colab": {
          "base_uri": "https://localhost:8080/",
          "height": 34
        }
      },
      "source": [
        "np_m, np_b"
      ],
      "execution_count": 0,
      "outputs": [
        {
          "output_type": "execute_result",
          "data": {
            "text/plain": [
              "(1.32243102275536, 7.991020982270385)"
            ]
          },
          "metadata": {
            "tags": []
          },
          "execution_count": 189
        }
      ]
    },
    {
      "cell_type": "markdown",
      "metadata": {
        "id": "Dh6PmQOwxcKk",
        "colab_type": "text"
      },
      "source": [
        "### Visualize the Data"
      ]
    },
    {
      "cell_type": "code",
      "metadata": {
        "id": "B0h7MJE0xcKo",
        "colab_type": "code",
        "outputId": "91b40711-708e-432b-d710-f47d4ab7d33c",
        "colab": {
          "base_uri": "https://localhost:8080/",
          "height": 312
        }
      },
      "source": [
        "fig = plt.figure()\n",
        "\n",
        "# Generate data for plotting Line\n",
        "x = np.arange(25, 75)\n",
        "y = [m * x_i + b for x_i in x]\n",
        "\n",
        "# Generate data for plotting Line Numpy Linear Regression\n",
        "np_x = np.arange(25, 75)\n",
        "np_y = [np_m * x_i + np_b for x_i in np_x]\n",
        "\n",
        "# plot data and best-fit lines\n",
        "plt.plot(X, Y, 'o', x, y, '-', np_x, np_y, '--')\n",
        "plt.legend(loc='upper left', labels=['data points', 'best-fit line', 'numpy line'])\n",
        "\n",
        "fig.suptitle('Linear Regression : Expected Marks vs Hours of Study', fontsize=18)\n",
        "plt.xlabel('Hours of Study', fontsize=14)\n",
        "plt.ylabel('Expected Marks', fontsize=14)\n",
        "plt.show()"
      ],
      "execution_count": 0,
      "outputs": [
        {
          "output_type": "display_data",
          "data": {
            "image/png": "[encoded data removed]",
            "text/plain": [
              "<Figure size 432x288 with 1 Axes>"
            ]
          },
          "metadata": {
            "tags": []
          }
        }
      ]
    },
    {
      "cell_type": "code",
      "metadata": {
        "id": "hrNrYLes_IyY",
        "colab_type": "code",
        "colab": {}
      },
      "source": [
        ""
      ],
      "execution_count": 0,
      "outputs": []
    }
  ]
}